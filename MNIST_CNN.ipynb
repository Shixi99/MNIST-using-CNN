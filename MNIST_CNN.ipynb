{
  "nbformat": 4,
  "nbformat_minor": 0,
  "metadata": {
    "colab": {
      "name": "MNIST CNN.ipynb",
      "provenance": [],
      "collapsed_sections": []
    },
    "kernelspec": {
      "name": "python3",
      "display_name": "Python 3"
    },
    "accelerator": "GPU"
  },
  "cells": [
    {
      "cell_type": "code",
      "metadata": {
        "id": "PJJEWxMauPsS",
        "colab_type": "code",
        "colab": {}
      },
      "source": [
        "import numpy as np\n",
        "import tensorflow as tf\n",
        "import matplotlib.pyplot as plt\n",
        "from tensorflow.keras.models import Model\n",
        "from tensorflow.keras.layers import Input, Dense, Flatten, Conv2D, Dropout, MaxPool2D, GlobalMaxPool2D\n",
        "from sklearn.metrics import confusion_matrix\n",
        "import itertools\n",
        "from keras.models import Sequential\n",
        "from keras.optimizers import RMSprop\n",
        "from keras.preprocessing.image import ImageDataGenerator\n",
        "from keras.callbacks import ReduceLROnPlateau"
      ],
      "execution_count": 40,
      "outputs": []
    },
    {
      "cell_type": "code",
      "metadata": {
        "id": "u7C8PnOqu-0w",
        "colab_type": "code",
        "colab": {}
      },
      "source": [
        "mnist = tf.keras.datasets.mnist"
      ],
      "execution_count": 41,
      "outputs": []
    },
    {
      "cell_type": "code",
      "metadata": {
        "id": "XJLWtzBevxo_",
        "colab_type": "code",
        "colab": {}
      },
      "source": [
        "(x_train, y_train), (x_test, y_test) = mnist.load_data()"
      ],
      "execution_count": 42,
      "outputs": []
    },
    {
      "cell_type": "code",
      "metadata": {
        "id": "b4e34DGzxTw-",
        "colab_type": "code",
        "colab": {}
      },
      "source": [
        "x_train, x_test = x_train / 255.0, x_test / 255.0"
      ],
      "execution_count": 43,
      "outputs": []
    },
    {
      "cell_type": "code",
      "metadata": {
        "id": "T7116OQHv08a",
        "colab_type": "code",
        "colab": {
          "base_uri": "https://localhost:8080/",
          "height": 85
        },
        "outputId": "bf479354-933d-4384-bcd8-a25f6d1923d0"
      },
      "source": [
        "print(x_train.shape)\n",
        "print(y_train.shape)\n",
        "print(x_test.shape)\n",
        "print(y_test.shape)"
      ],
      "execution_count": 44,
      "outputs": [
        {
          "output_type": "stream",
          "text": [
            "(60000, 28, 28)\n",
            "(60000,)\n",
            "(10000, 28, 28)\n",
            "(10000,)\n"
          ],
          "name": "stdout"
        }
      ]
    },
    {
      "cell_type": "code",
      "metadata": {
        "id": "wkGdU2MrwcdB",
        "colab_type": "code",
        "colab": {}
      },
      "source": [
        "x_train, x_test = np.expand_dims(x_train, -1), np.expand_dims(x_test, -1)"
      ],
      "execution_count": 45,
      "outputs": []
    },
    {
      "cell_type": "code",
      "metadata": {
        "id": "AITcw07ww8YY",
        "colab_type": "code",
        "colab": {
          "base_uri": "https://localhost:8080/",
          "height": 51
        },
        "outputId": "97c18a85-97b0-4cd5-87b7-81415b831a86"
      },
      "source": [
        "print(x_train.shape)\n",
        "print(x_test.shape)"
      ],
      "execution_count": 46,
      "outputs": [
        {
          "output_type": "stream",
          "text": [
            "(60000, 28, 28, 1)\n",
            "(10000, 28, 28, 1)\n"
          ],
          "name": "stdout"
        }
      ]
    },
    {
      "cell_type": "code",
      "metadata": {
        "id": "h-ICcC0vw__p",
        "colab_type": "code",
        "colab": {}
      },
      "source": [
        "# build model using sequential model\n",
        "# my CNN architechture is In -> [[Conv2D->relu]*2 -> MaxPool2D -> Dropout]*2 -> Flatten -> Dense -> Dropout -> Out\n",
        "\n",
        "model = Sequential()\n",
        "\n",
        "model.add(Conv2D(filters=32, \n",
        "                 kernel_size=(5, 5), \n",
        "                 padding='Same',\n",
        "                 activation='relu',\n",
        "                 input_shape=x_train[0].shape))\n",
        "\n",
        "model.add(Conv2D(filters=32,\n",
        "                 kernel_size=(5, 5),\n",
        "                 padding='Same',\n",
        "                 activation='relu'))\n",
        "\n",
        "model.add(MaxPool2D(pool_size=(2, 2)))\n",
        "\n",
        "model.add(Dropout(0.25))\n",
        "\n",
        "model.add(Conv2D(filters=64,\n",
        "                 kernel_size=(3, 3),\n",
        "                 padding='Same',\n",
        "                 activation='relu'))\n",
        "\n",
        "model.add(Conv2D(filters=64,\n",
        "                 kernel_size=(3, 3),\n",
        "                 padding='Same',\n",
        "                 activation='relu'))\n",
        "\n",
        "model.add(MaxPool2D(pool_size=(2, 2), strides=(2, 2)))\n",
        "model.add(Dropout(0.25))\n",
        "\n",
        "model.add(Flatten())\n",
        "model.add(Dense(256, activation='relu'))\n",
        "model.add(Dropout(0.25))\n",
        "model.add(Dense(10, activation='softmax'))"
      ],
      "execution_count": 47,
      "outputs": []
    },
    {
      "cell_type": "code",
      "metadata": {
        "id": "KO_vNMEq2xey",
        "colab_type": "code",
        "colab": {}
      },
      "source": [
        "# optimizer = RMSprop(learning_rate=0.005, rho=0.9, \n",
        "#                     epsilon=1e-08, decay=0.0)"
      ],
      "execution_count": 48,
      "outputs": []
    },
    {
      "cell_type": "code",
      "metadata": {
        "id": "WVHhnJrL5fXz",
        "colab_type": "code",
        "colab": {}
      },
      "source": [
        "model.compile(optimizer='adam', \n",
        "              loss='sparse_categorical_crossentropy',\n",
        "              metrics = ['accuracy'])"
      ],
      "execution_count": 49,
      "outputs": []
    },
    {
      "cell_type": "code",
      "metadata": {
        "id": "x1Cl4VR76EKb",
        "colab_type": "code",
        "colab": {}
      },
      "source": [
        "learning_rate_reduction = ReduceLROnPlateau(monitor='val_accuracy',\n",
        "                                            patience = 3,\n",
        "                                            verbose = 1,\n",
        "                                            factor = 0.5,\n",
        "                                            min_lr = 0.00001)"
      ],
      "execution_count": 50,
      "outputs": []
    },
    {
      "cell_type": "code",
      "metadata": {
        "id": "1CGQdvAe6sZr",
        "colab_type": "code",
        "colab": {}
      },
      "source": [
        "epochs = 30\n",
        "batch_size = 86"
      ],
      "execution_count": 51,
      "outputs": []
    },
    {
      "cell_type": "code",
      "metadata": {
        "id": "Q3Juvz0l6yPo",
        "colab_type": "code",
        "colab": {}
      },
      "source": [
        "data_generator = ImageDataGenerator(\n",
        "    rotation_range=10,\n",
        "    zoom_range=0.1,\n",
        "    width_shift_range = 0.1,\n",
        "    height_shift_range = 0.1\n",
        ")\n",
        "\n",
        "data_generator.fit(x_train)"
      ],
      "execution_count": 52,
      "outputs": []
    },
    {
      "cell_type": "code",
      "metadata": {
        "id": "d11NGU4L70dQ",
        "colab_type": "code",
        "colab": {}
      },
      "source": [
        "train_generator = data_generator.flow(x_train, y_train, \n",
        "                                      batch_size)\n",
        "steps_per_epoch = x_train.shape[0] // batch_size"
      ],
      "execution_count": 53,
      "outputs": []
    },
    {
      "cell_type": "code",
      "metadata": {
        "id": "-Zghcvz-7cAS",
        "colab_type": "code",
        "colab": {
          "base_uri": "https://localhost:8080/",
          "height": 1000
        },
        "outputId": "487a77a8-d11c-4b2c-f245-e9313c8adbf4"
      },
      "source": [
        "history = model.fit_generator(train_generator, epochs=epochs,\n",
        "                              validation_data=(x_test, y_test),\n",
        "                              verbose=2,\n",
        "                              steps_per_epoch = steps_per_epoch,\n",
        "                              callbacks = [learning_rate_reduction])"
      ],
      "execution_count": 54,
      "outputs": [
        {
          "output_type": "stream",
          "text": [
            "Epoch 1/30\n",
            " - 16s - loss: 0.2705 - accuracy: 0.9129 - val_loss: 0.0418 - val_accuracy: 0.9862\n",
            "Epoch 2/30\n",
            " - 15s - loss: 0.0895 - accuracy: 0.9729 - val_loss: 0.0354 - val_accuracy: 0.9891\n",
            "Epoch 3/30\n",
            " - 15s - loss: 0.0664 - accuracy: 0.9803 - val_loss: 0.0290 - val_accuracy: 0.9910\n",
            "Epoch 4/30\n",
            " - 15s - loss: 0.0589 - accuracy: 0.9819 - val_loss: 0.0248 - val_accuracy: 0.9928\n",
            "Epoch 5/30\n",
            " - 15s - loss: 0.0517 - accuracy: 0.9841 - val_loss: 0.0175 - val_accuracy: 0.9938\n",
            "Epoch 6/30\n",
            " - 15s - loss: 0.0462 - accuracy: 0.9861 - val_loss: 0.0192 - val_accuracy: 0.9941\n",
            "Epoch 7/30\n",
            " - 15s - loss: 0.0420 - accuracy: 0.9870 - val_loss: 0.0201 - val_accuracy: 0.9946\n",
            "Epoch 8/30\n",
            " - 15s - loss: 0.0407 - accuracy: 0.9882 - val_loss: 0.0192 - val_accuracy: 0.9941\n",
            "Epoch 9/30\n",
            " - 16s - loss: 0.0394 - accuracy: 0.9880 - val_loss: 0.0159 - val_accuracy: 0.9949\n",
            "Epoch 10/30\n",
            " - 15s - loss: 0.0379 - accuracy: 0.9884 - val_loss: 0.0142 - val_accuracy: 0.9951\n",
            "Epoch 11/30\n",
            " - 15s - loss: 0.0356 - accuracy: 0.9891 - val_loss: 0.0148 - val_accuracy: 0.9951\n",
            "Epoch 12/30\n",
            " - 15s - loss: 0.0340 - accuracy: 0.9894 - val_loss: 0.0145 - val_accuracy: 0.9954\n",
            "Epoch 13/30\n",
            " - 15s - loss: 0.0315 - accuracy: 0.9903 - val_loss: 0.0167 - val_accuracy: 0.9954\n",
            "Epoch 14/30\n",
            " - 15s - loss: 0.0321 - accuracy: 0.9901 - val_loss: 0.0190 - val_accuracy: 0.9947\n",
            "Epoch 15/30\n",
            " - 16s - loss: 0.0310 - accuracy: 0.9903 - val_loss: 0.0179 - val_accuracy: 0.9946\n",
            "\n",
            "Epoch 00015: ReduceLROnPlateau reducing learning rate to 0.0005000000237487257.\n",
            "Epoch 16/30\n",
            " - 15s - loss: 0.0232 - accuracy: 0.9927 - val_loss: 0.0136 - val_accuracy: 0.9952\n",
            "Epoch 17/30\n",
            " - 15s - loss: 0.0204 - accuracy: 0.9932 - val_loss: 0.0126 - val_accuracy: 0.9961\n",
            "Epoch 18/30\n",
            " - 16s - loss: 0.0206 - accuracy: 0.9937 - val_loss: 0.0134 - val_accuracy: 0.9959\n",
            "Epoch 19/30\n",
            " - 16s - loss: 0.0194 - accuracy: 0.9935 - val_loss: 0.0139 - val_accuracy: 0.9957\n",
            "Epoch 20/30\n",
            " - 15s - loss: 0.0179 - accuracy: 0.9941 - val_loss: 0.0120 - val_accuracy: 0.9961\n",
            "\n",
            "Epoch 00020: ReduceLROnPlateau reducing learning rate to 0.0002500000118743628.\n",
            "Epoch 21/30\n",
            " - 15s - loss: 0.0160 - accuracy: 0.9953 - val_loss: 0.0123 - val_accuracy: 0.9958\n",
            "Epoch 22/30\n",
            " - 15s - loss: 0.0154 - accuracy: 0.9952 - val_loss: 0.0127 - val_accuracy: 0.9962\n",
            "Epoch 23/30\n",
            " - 16s - loss: 0.0148 - accuracy: 0.9952 - val_loss: 0.0119 - val_accuracy: 0.9966\n",
            "Epoch 24/30\n",
            " - 16s - loss: 0.0142 - accuracy: 0.9956 - val_loss: 0.0119 - val_accuracy: 0.9963\n",
            "Epoch 25/30\n",
            " - 16s - loss: 0.0130 - accuracy: 0.9960 - val_loss: 0.0116 - val_accuracy: 0.9960\n",
            "Epoch 26/30\n",
            " - 15s - loss: 0.0148 - accuracy: 0.9951 - val_loss: 0.0112 - val_accuracy: 0.9961\n",
            "\n",
            "Epoch 00026: ReduceLROnPlateau reducing learning rate to 0.0001250000059371814.\n",
            "Epoch 27/30\n",
            " - 15s - loss: 0.0121 - accuracy: 0.9961 - val_loss: 0.0109 - val_accuracy: 0.9963\n",
            "Epoch 28/30\n",
            " - 15s - loss: 0.0121 - accuracy: 0.9961 - val_loss: 0.0111 - val_accuracy: 0.9962\n",
            "Epoch 29/30\n",
            " - 15s - loss: 0.0111 - accuracy: 0.9966 - val_loss: 0.0105 - val_accuracy: 0.9965\n",
            "\n",
            "Epoch 00029: ReduceLROnPlateau reducing learning rate to 6.25000029685907e-05.\n",
            "Epoch 30/30\n",
            " - 15s - loss: 0.0106 - accuracy: 0.9966 - val_loss: 0.0099 - val_accuracy: 0.9966\n"
          ],
          "name": "stdout"
        }
      ]
    },
    {
      "cell_type": "code",
      "metadata": {
        "id": "le6MLNsF8vfb",
        "colab_type": "code",
        "colab": {
          "base_uri": "https://localhost:8080/",
          "height": 282
        },
        "outputId": "e0ab14f7-2e44-4ab1-be3d-5fd58c96c499"
      },
      "source": [
        "# Plot loss per iteration\n",
        "import matplotlib.pyplot as plt\n",
        "plt.plot(history.history['loss'], label='loss')\n",
        "plt.plot(history.history['val_loss'], label='val_loss')\n",
        "plt.legend()"
      ],
      "execution_count": 55,
      "outputs": [
        {
          "output_type": "execute_result",
          "data": {
            "text/plain": [
              "<matplotlib.legend.Legend at 0x7f51b9fd01d0>"
            ]
          },
          "metadata": {
            "tags": []
          },
          "execution_count": 55
        },
        {
          "output_type": "display_data",
          "data": {
            "image/png": "[encoded data removed]",
            "text/plain": [
              "<Figure size 432x288 with 1 Axes>"
            ]
          },
          "metadata": {
            "tags": [],
            "needs_background": "light"
          }
        }
      ]
    },
    {
      "cell_type": "code",
      "metadata": {
        "id": "SG_zIHC7ClBN",
        "colab_type": "code",
        "colab": {
          "base_uri": "https://localhost:8080/",
          "height": 284
        },
        "outputId": "f61738e8-db1b-4072-e351-b79a07ff848f"
      },
      "source": [
        "# Plot accuracy per iteration\n",
        "plt.plot(history.history['accuracy'], label='acc')\n",
        "plt.plot(history.history['val_accuracy'], label='val_acc')\n",
        "plt.legend()"
      ],
      "execution_count": 56,
      "outputs": [
        {
          "output_type": "execute_result",
          "data": {
            "text/plain": [
              "<matplotlib.legend.Legend at 0x7f51b9ab41d0>"
            ]
          },
          "metadata": {
            "tags": []
          },
          "execution_count": 56
        },
        {
          "output_type": "display_data",
          "data": {
            "image/png": "[encoded data removed]",
            "text/plain": [
              "<Figure size 432x288 with 1 Axes>"
            ]
          },
          "metadata": {
            "tags": [],
            "needs_background": "light"
          }
        }
      ]
    },
    {
      "cell_type": "code",
      "metadata": {
        "id": "eUxuZ67zCtDs",
        "colab_type": "code",
        "colab": {
          "base_uri": "https://localhost:8080/",
          "height": 498
        },
        "outputId": "c40afd81-771f-4bc2-ba8b-e2900c5f55bd"
      },
      "source": [
        "# Plot confusion matrix\n",
        "from sklearn.metrics import confusion_matrix\n",
        "import itertools\n",
        "\n",
        "def plot_confusion_matrix(cm, classes,\n",
        "                          normalize=False,\n",
        "                          title='Confusion matrix',\n",
        "                          cmap=plt.cm.Blues):\n",
        "  \"\"\"\n",
        "  This function prints and plots the confusion matrix.\n",
        "  Normalization can be applied by setting `normalize=True`.\n",
        "  \"\"\"\n",
        "  if normalize:\n",
        "      cm = cm.astype('float') / cm.sum(axis=1)[:, np.newaxis]\n",
        "      print(\"Normalized confusion matrix\")\n",
        "  else:\n",
        "      print('Confusion matrix, without normalization')\n",
        "\n",
        "  print(cm)\n",
        "\n",
        "  plt.imshow(cm, interpolation='nearest', cmap=cmap)\n",
        "  plt.title(title)\n",
        "  plt.colorbar()\n",
        "  tick_marks = np.arange(len(classes))\n",
        "  plt.xticks(tick_marks, classes, rotation=45)\n",
        "  plt.yticks(tick_marks, classes)\n",
        "\n",
        "  fmt = '.2f' if normalize else 'd'\n",
        "  thresh = cm.max() / 2.\n",
        "  for i, j in itertools.product(range(cm.shape[0]), range(cm.shape[1])):\n",
        "      plt.text(j, i, format(cm[i, j], fmt),\n",
        "               horizontalalignment=\"center\",\n",
        "               color=\"white\" if cm[i, j] > thresh else \"black\")\n",
        "\n",
        "  plt.tight_layout()\n",
        "  plt.ylabel('True label')\n",
        "  plt.xlabel('Predicted label')\n",
        "  plt.show()\n",
        "\n",
        "\n",
        "p_test = model.predict(x_test).argmax(axis=1)\n",
        "cm = confusion_matrix(y_test, p_test)\n",
        "plot_confusion_matrix(cm, list(range(10)))\n",
        "\n"
      ],
      "execution_count": 57,
      "outputs": [
        {
          "output_type": "stream",
          "text": [
            "Confusion matrix, without normalization\n",
            "[[ 979    0    0    0    0    1    0    0    0    0]\n",
            " [   0 1134    0    0    0    0    0    1    0    0]\n",
            " [   0    0 1027    1    0    0    0    4    0    0]\n",
            " [   0    0    0 1008    0    1    0    0    1    0]\n",
            " [   0    0    0    0  978    0    1    0    0    3]\n",
            " [   0    0    0    3    0  888    1    0    0    0]\n",
            " [   1    1    0    0    0    0  955    0    1    0]\n",
            " [   0    2    2    0    0    0    0 1024    0    0]\n",
            " [   0    0    1    2    0    1    0    0  970    0]\n",
            " [   0    0    0    0    4    1    0    1    0 1003]]\n"
          ],
          "name": "stdout"
        },
        {
          "output_type": "display_data",
          "data": {
            "image/png": "[encoded data removed]",
            "text/plain": [
              "<Figure size 432x288 with 2 Axes>"
            ]
          },
          "metadata": {
            "tags": [],
            "needs_background": "light"
          }
        }
      ]
    }
  ]
}